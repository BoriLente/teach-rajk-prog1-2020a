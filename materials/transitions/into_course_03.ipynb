{
 "cells": [
  {
   "cell_type": "markdown",
   "metadata": {},
   "source": [
    "Ebben a háziban programok leírását és ezekhez tartozó specifikációkat találtok. \n",
    "\n",
    "A házi ezeket összepárosítani, amihez nem találsz párt, ahhoz pedig írni egy sajátot.\n",
    "\n",
    "Ezen kívül előfordulhat hogy valamelyik specifikációban van valami hiba, valami nem teljes. Ha ilyet találtok, jelezzétek és írjátok le részletesen miért gondoljátok hogy baj van a specifikációval. \n",
    "\n",
    "Ennek a leadási határideje most csütörtök éjfél, kipróbáljuk hátha a +1 nap csökkenti a késések számát."
   ]
  },
  {
   "cell_type": "markdown",
   "metadata": {},
   "source": [
    "### jelölés beli segítség:\n",
    "\n",
    "- $\\mathbb{B}$ a logikai értékek halmaza.\n",
    "  - $l \\in \\mathbb{B}$ azt jelenti hogy $l$ egy logikai változó\n",
    "  - $P: \\mathbb{R} \\to \\mathbb{B}$ pedig azt, hogy $P$ egy valós számból logikai értékbe képző függvény (más néven predikátum)\n",
    "- $\\mathbb{N}^n$ az $n$ elemű tömböket jelöli amikben $\\mathbb{N}$ típusú elemek vannak\n",
    "  - $v \\in \\mathbb{N}^n$ azt jelenti, hogy $v$ egy $n$ elemszámú tömb és mindegyik elem természetes szám, amiket lehet $(v_1,v_2 ... v_n)$-el jelölni\n",
    "  - Ha az előző módon kikötöttük micsoda $v$, használhatjuk az $x \\in v$ jelölést arra, hogy $v$ egyik eleme $x$ (ez ugye nem alap, mivel $\\in$ egy halmazművelet és $v$ nem egy halmaz hanem tömb, de most megengedjük)\n",
    "- $a = a'$ ami jellemzően az előfeltételben szerepel, annyit jelent, hogy a egy konkrét értékkel rendelkezik a program futása elején"
   ]
  },
  {
   "cell_type": "markdown",
   "metadata": {},
   "source": [
    "## Specifikációk"
   ]
  },
  {
   "cell_type": "markdown",
   "metadata": {},
   "source": [
    "### 1.\n",
    "#### A: $(v \\in \\mathbb{N}^n, a,b  \\in \\mathbb{N})$\n",
    "#### Ef:   $(v=v' \\land n \\geq 2)$\n",
    "#### Uf: $(Ef \\land \\exists c,d(c,d \\in v \\land (\\nexists k ( k \\in \\mathbb{N} \\land k \\neq 1 \\land \\frac{c}{k} \\in \\mathbb{N} \\land \\frac{d}{k} \\in \\mathbb{N} )) \\Rightarrow a,b \\in v \\land (\\nexists k ( k \\in \\mathbb{N} \\land k \\neq 1 \\land \\frac{a}{k} \\in \\mathbb{N} \\land \\frac{b}{k} \\in \\mathbb{N} ) $"
   ]
  },
  {
   "cell_type": "markdown",
   "metadata": {},
   "source": [
    "### 2. \n",
    "#### A: $(a,b,c \\in \\mathbb{R}, l \\in \\mathbb{B})$\n",
    "#### Ef: $(a=a' \\land b=b'\\land c=c' \\land a > 0 \\land b > 0 \\land c > 0 \\land c < a + b \\land a < b + c \\land b < a + c)$\n",
    "#### Uf: $(Ef \\land l \\Leftrightarrow (a^2 + b^2 = c^2 \\lor a^2 + c^2 = b^2 \\lor b^2 + c^2 = a ^2) ) $"
   ]
  },
  {
   "cell_type": "markdown",
   "metadata": {},
   "source": [
    "### 3.\n",
    "#### A: $(t \\in \\mathbb{N}^n , x \\in \\mathbb{N})$\n",
    "#### Ef: $(x=x')$\n",
    "#### Uf: $(Ef \\land (x / t_i \\in \\mathbb{N} \\land t_i \\in \\mathbb{N}) \\Leftrightarrow (t_i \\in t)) $"
   ]
  },
  {
   "cell_type": "markdown",
   "metadata": {},
   "source": [
    "### 4.\n",
    "#### A: $(a,b,x \\in \\mathbb{N})$\n",
    "#### Ef: $(a=a',b=b')$\n",
    "#### Uf: $(Ef \\land x/a \\in \\mathbb{N} \\land \\frac{x}{b} \\in \\mathbb{N} \\land \\nexists y ( y < x \\land y/a \\in \\mathbb{N} \\land y/b \\in \\mathbb{N} ) $"
   ]
  },
  {
   "cell_type": "markdown",
   "metadata": {},
   "source": [
    "### 5.\n",
    "#### A: $(t \\in \\mathbb{N}^n , x,y \\in \\mathbb{N})$\n",
    "#### Ef: $(x=x' \\land y=y')$\n",
    "#### Uf: $(Ef \\land (t_i \\in t) \\Leftrightarrow (\\forall m (m \\in \\mathbb{N} \\land t_i / m \\in \\mathbb{N} \\Rightarrow (m = 1 \\lor m = t_i) ) \\land t_i \\geq x \\land t_i \\leq y) )$"
   ]
  },
  {
   "cell_type": "markdown",
   "metadata": {},
   "source": [
    "### 6.\n",
    "#### A: $(a \\in \\mathbb{N}^+, b \\in \\mathbb{N})$\n",
    "#### Ef: $(a=a' \\land a \\geq 3)$\n",
    "#### Uf: $(Ef \\land b = \\frac{a (a-3)}{2} )  $"
   ]
  },
  {
   "cell_type": "markdown",
   "metadata": {},
   "source": [
    "### 7.\n",
    "#### A: $(v \\in \\mathbb{N}^n, b \\in \\mathbb{N})$\n",
    "#### Ef: $(v=v' \\land n = 10)$\n",
    "#### Uf: $(Ef \\land \\exists p (p \\in v \\land 2 \\mid p) \\Rightarrow (b = \\prod_{t \\in v} t ) \\land \\nexists p (p \\in v \\land 2 \\mid p) \\Rightarrow (b \\in v \\land \\nexists k (k \\in v \\land k < b))  )  $"
   ]
  },
  {
   "cell_type": "markdown",
   "metadata": {},
   "source": [
    "### 8.\n",
    "#### A: $(v \\in \\mathbb{R}^{n}, x \\in \\mathbb{R})$\n",
    "#### Ef: $(v=v')$\n",
    "#### Uf: $(Ef \\land x \\in v \\land \\nexists y(y \\in v \\land y > x))$"
   ]
  },
  {
   "cell_type": "markdown",
   "metadata": {},
   "source": [
    "### 9.\n",
    "#### A: $(a,b,c \\in \\mathbb{R}^+)$\n",
    "#### Ef: $(a=a', b=b')$\n",
    "#### Uf: $(Ef \\land a^2+b^2 = c^2 )  $"
   ]
  },
  {
   "cell_type": "markdown",
   "metadata": {},
   "source": [
    "## Leírások"
   ]
  },
  {
   "cell_type": "markdown",
   "metadata": {},
   "source": [
    "#### A \n",
    "Válassza ki a megadott számok közül a legnagyobbat   "
   ]
  },
  {
   "cell_type": "markdown",
   "metadata": {},
   "source": [
    "#### B \n",
    "találjuk meg az összes prím számot két adott természetes szám között"
   ]
  },
  {
   "cell_type": "markdown",
   "metadata": {},
   "source": [
    "#### C \n",
    "Egy természetes számokat tartalmazó halmazból válasszunk ki két relatív prímet (ha van)!"
   ]
  },
  {
   "cell_type": "markdown",
   "metadata": {},
   "source": [
    "#### D \n",
    "Adott három szám ami egy háromszög 3 oldalának hossza. Döntsük el, hogy derékszögű-e a háromszög"
   ]
  },
  {
   "cell_type": "markdown",
   "metadata": {},
   "source": [
    "#### E \n",
    "Egy tíz számból álló tömbben ha van páros, számoljuk ki a 10 szám szorzatát, ha nincs közte páros szám, adjuk meg a legkisebb számot"
   ]
  },
  {
   "cell_type": "markdown",
   "metadata": {},
   "source": [
    "#### F \n",
    "Találjuk meg két természetes szám legkisebb közös többszörösét"
   ]
  },
  {
   "cell_type": "markdown",
   "metadata": {},
   "source": [
    "#### G \n",
    "Számoljunk ki egy tömböt amiben szerepel egy adott szám minden egész osztója"
   ]
  },
  {
   "cell_type": "markdown",
   "metadata": {},
   "source": [
    "#### H \n",
    "Adott egy tömb, amihez számoljunk ki egy olyan tömböt amiben az eredeti tömbben szereplő négyzetszámok gyöke szerepel, a nem négyzetszámok pedig önmaguk"
   ]
  },
  {
   "cell_type": "markdown",
   "metadata": {},
   "source": [
    "#### I \n",
    "Állapítsd meg hogy \"a\" oldalszámú sokszögnek hány darab átlója van!"
   ]
  }
 ],
 "metadata": {
  "kernelspec": {
   "display_name": "Python 3",
   "language": "python",
   "name": "python3"
  },
  "language_info": {
   "codemirror_mode": {
    "name": "ipython",
    "version": 3
   },
   "file_extension": ".py",
   "mimetype": "text/x-python",
   "name": "python",
   "nbconvert_exporter": "python",
   "pygments_lexer": "ipython3",
   "version": "3.6.4"
  }
 },
 "nbformat": 4,
 "nbformat_minor": 2
}
