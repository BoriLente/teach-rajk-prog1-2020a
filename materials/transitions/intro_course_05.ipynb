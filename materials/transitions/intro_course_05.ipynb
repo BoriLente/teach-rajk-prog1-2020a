{
 "cells": [
  {
   "cell_type": "markdown",
   "metadata": {},
   "source": [
    "### Turing gép\n",
    "\n",
    "Nézzétek meg ezt a két rövid videót a Turing-gépről:\n",
    "- [**Turing Machines Explained - Computerphile**](https://www.youtube.com/watch?v=dNRDvLACg5Q&feature=youtu.be)\n",
    "- [**Turing Machines**](https://www.youtube.com/watch?v=gJQTFhkhwPA&feature=youtu.be)\n",
    "\n",
    "**Szombat éjfélig** privátban mindenki küldjön egy leírást egy tetszőleges Turing-gép működéséről. Félreértések elkerülése végett: ne általánosan a Turing-gépet írjátok le, hanem **egy speciális feladatot végző** Turing-gépet. A feladatnak nem kell bonyolultnak lennie egyáltalán, lehet nagyon primitív is. A lényeg, hogy minden információt tegyetek bele, ami szerintetek kell a gép működéséhez."
   ]
  }
 ],
 "metadata": {
  "kernelspec": {
   "display_name": "Python 3",
   "language": "python",
   "name": "python3"
  },
  "language_info": {
   "codemirror_mode": {
    "name": "ipython",
    "version": 3
   },
   "file_extension": ".py",
   "mimetype": "text/x-python",
   "name": "python",
   "nbconvert_exporter": "python",
   "pygments_lexer": "ipython3",
   "version": "3.7.3"
  }
 },
 "nbformat": 4,
 "nbformat_minor": 2
}
