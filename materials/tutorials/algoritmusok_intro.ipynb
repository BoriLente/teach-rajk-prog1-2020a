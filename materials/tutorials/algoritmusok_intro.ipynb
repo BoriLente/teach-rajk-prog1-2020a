{
 "cells": [
  {
   "cell_type": "markdown",
   "metadata": {},
   "source": [
    "### Sárkányos feladat\n",
    "\n",
    "Egy elszabadult sárkányt keresünk, aki mindig a legnagyobb tehenet eszi meg a királyságban, majd ledől a környéken aludni. Mivel van tehénverseny minden évben, van egy listánk a tehenekről, méret szerint. Hogy fogunk neki a sárkány megtalálásának, hogy minél kevesebb farmra kelljen menni?"
   ]
  },
  {
   "cell_type": "markdown",
   "metadata": {},
   "source": [
    "![log_n](https://github.com/dormanh/teach-rajk-prog1-2020a/blob/master/materials/others/log(n).png)"
   ]
  },
  {
   "cell_type": "markdown",
   "metadata": {},
   "source": [
    "### Hány lépés után érünk el ide?"
   ]
  },
  {
   "cell_type": "markdown",
   "metadata": {},
   "source": [
    "$1 = \\frac{n}{2^x}$\n",
    "\n",
    "$2^x = n$\n",
    "\n",
    "$log_2 2^x = log_2 n$\n",
    "\n",
    "$x = log_2 n$"
   ]
  },
  {
   "cell_type": "markdown",
   "metadata": {},
   "source": [
    "Ez azt jelenti, hogy a **legrosszabb esetben $log_2 n$ farmra kell elmennünk**!"
   ]
  }
 ],
 "metadata": {
  "kernelspec": {
   "display_name": "Python 3",
   "language": "python",
   "name": "python3"
  },
  "language_info": {
   "codemirror_mode": {
    "name": "ipython",
    "version": 3
   },
   "file_extension": ".py",
   "mimetype": "text/x-python",
   "name": "python",
   "nbconvert_exporter": "python",
   "pygments_lexer": "ipython3",
   "version": "3.7.3"
  }
 },
 "nbformat": 4,
 "nbformat_minor": 2
}
