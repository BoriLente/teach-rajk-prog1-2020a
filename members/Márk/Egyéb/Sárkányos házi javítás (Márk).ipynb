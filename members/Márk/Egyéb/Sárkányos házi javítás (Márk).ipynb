{
 "cells": [
  {
   "cell_type": "code",
   "execution_count": 1,
   "metadata": {},
   "outputs": [],
   "source": [
    "from jkg_evaluators import dragonfind_10_to_500"
   ]
  },
  {
   "cell_type": "code",
   "execution_count": 2,
   "metadata": {},
   "outputs": [],
   "source": [
    "def my_solution2(is_dead, number_of_cows):\n",
    "    i = 0\n",
    "    while True:\n",
    "        if is_dead(i):\n",
    "            i += 1\n",
    "        else:\n",
    "            return i"
   ]
  },
  {
   "cell_type": "code",
   "execution_count": 3,
   "metadata": {},
   "outputs": [
    {
     "name": "stdout",
     "output_type": "stream",
     "text": [
      "- success rate: 124714/124714 (100.0%)\n",
      "- error count: 0\n",
      "- best performance: 2\n",
      "- worst performance: 500\n",
      "- mean performance: 168.04724409448818\n"
     ]
    }
   ],
   "source": [
    "dragonfind_10_to_500.evaluate(my_solution2)"
   ]
  },
  {
   "cell_type": "markdown",
   "metadata": {},
   "source": [
    "Ez helyes megoldás, bár nem túl ambíciózus. A logikája egy az egyben megfelel a dokumentációban találhatónak. Nem implementáltad a hatékony algoritmust, és az eredeti, kurzuson elkezdett függvényeket sem javítottad ki. Elég para így leadni egy negyedrészben sem kész házit, anélkül, hogy szólnál róla.\n",
    "\n",
    "Vasárnapig, kérlek, pótolj mindent."
   ]
  }
 ],
 "metadata": {
  "kernelspec": {
   "display_name": "Python 3",
   "language": "python",
   "name": "python3"
  },
  "language_info": {
   "codemirror_mode": {
    "name": "ipython",
    "version": 3
   },
   "file_extension": ".py",
   "mimetype": "text/x-python",
   "name": "python",
   "nbconvert_exporter": "python",
   "pygments_lexer": "ipython3",
   "version": "3.7.3"
  }
 },
 "nbformat": 4,
 "nbformat_minor": 2
}
