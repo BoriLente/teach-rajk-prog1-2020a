{
 "cells": [
  {
   "cell_type": "markdown",
   "metadata": {},
   "source": [
    "#### find the number of strings in a list of strings that contain a given letter\n",
    "\n",
    "upper or lower case\n",
    "\n",
    "> ```[\"abfg\", \"Bcd\", \"Ijk\"], \"b\" -> 2```"
   ]
  },
  {
   "cell_type": "code",
   "execution_count": 70,
   "metadata": {},
   "outputs": [],
   "source": [
    "from jkg_evaluators import letter_occurrences\n",
    "list = ['123', 'lala', '', '', '', 'aA']"
   ]
  },
  {
   "cell_type": "code",
   "execution_count": 74,
   "metadata": {},
   "outputs": [],
   "source": [
    "def find_letter_occurrences(list_of_strings, letter):\n",
    "    # modify this function\n",
    "    count = 0\n",
    "    letter = str(letter)\n",
    "    \n",
    "    for string in list_of_strings:\n",
    "       \n",
    "        aktualis_string = string\n",
    "    \n",
    "        for betu in aktualis_string:\n",
    "            if (betu == letter.lower()) or (betu == letter.upper()):\n",
    "                count = count + 1\n",
    "                break\n",
    "    \n",
    "    return count"
   ]
  },
  {
   "cell_type": "code",
   "execution_count": 72,
   "metadata": {},
   "outputs": [
    {
     "data": {
      "text/plain": [
       "2"
      ]
     },
     "execution_count": 72,
     "metadata": {},
     "output_type": "execute_result"
    }
   ],
   "source": [
    "find_letter_occurrences(list,'A')"
   ]
  },
  {
   "cell_type": "code",
   "execution_count": 75,
   "metadata": {},
   "outputs": [
    {
     "name": "stdout",
     "output_type": "stream",
     "text": [
      "- success rate: 495/495 (100.0%)\n",
      "- error count: 0\n",
      "- best performance: 1\n",
      "- worst performance: 1\n",
      "- mean performance: 1.0\n"
     ]
    }
   ],
   "source": [
    "letter_occurrences.evaluate(find_letter_occurrences)"
   ]
  }
 ],
 "metadata": {
  "kernelspec": {
   "display_name": "Python 3",
   "language": "python",
   "name": "python3"
  },
  "language_info": {
   "codemirror_mode": {
    "name": "ipython",
    "version": 3
   },
   "file_extension": ".py",
   "mimetype": "text/x-python",
   "name": "python",
   "nbconvert_exporter": "python",
   "pygments_lexer": "ipython3",
   "version": "3.7.5"
  }
 },
 "nbformat": 4,
 "nbformat_minor": 2
}
